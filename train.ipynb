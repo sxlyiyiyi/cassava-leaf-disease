{
 "cells": [
  {
   "cell_type": "code",
   "execution_count": null,
   "metadata": {
    "collapsed": true
   },
   "outputs": [],
   "source": [
    "import tensorflow as tf\n",
    "from utils.data_aug import get_dataset\n",
    "from utils.util import config_optimizer, learning_rate_config, add_regularization\n",
    "from utils.util import ckpt_manager, set_device\n",
    "from utils.logger import create_logger\n",
    "from utils.score import ClassMetric\n",
    "from tqdm import tqdm\n",
    "from utils.loss import get_loss\n",
    "from models.model_sum import get_model\n",
    "import numpy as np\n",
    "import pathlib\n",
    "from config import cfg"
   ]
  },
  {
   "cell_type": "code",
   "execution_count": null,
   "outputs": [],
   "source": [
    "set_device()\n",
    "output_dir = pathlib.Path(cfg.LOG_DIR)\n",
    "output_dir.mkdir(exist_ok=True, parents=True)\n",
    "logger = create_logger(name=__name__,\n",
    "                       output_dir=output_dir,\n",
    "                       filename='log.txt')"
   ],
   "metadata": {
    "collapsed": false,
    "pycharm": {
     "name": "#%%\n"
    }
   }
  },
  {
   "cell_type": "code",
   "execution_count": null,
   "outputs": [],
   "source": [
    "# 数据集加载\n",
    "train_dataset = get_dataset(cfg.DATASET.TRAIN_DATA, cfg, is_training=True)\n",
    "val_dataset = get_dataset(cfg.DATASET.VAL_DATA, cfg)\n",
    "\n",
    "# for batch, (images, labels) in enumerate(train_dataset):\n",
    "#     for i in range(cfg.TRAIN.BATCH_SIZE):\n",
    "#         show_image(images[i], labels[i], cfg.DATASET.LABELS)\n",
    "# 构建模型与损失函数\n",
    "model = get_model(cfg.MODEL_NAME, cfg)\n",
    "model = add_regularization(model, tf.keras.regularizers.l2(cfg.LOSS.WEIGHT_DECAY))\n",
    "# model.summary()\n",
    "\n",
    "loss = get_loss(cfg.LOSS.TYPE, cfg)"
   ],
   "metadata": {
    "collapsed": false,
    "pycharm": {
     "name": "#%%\n"
    }
   }
  },
  {
   "cell_type": "code",
   "execution_count": null,
   "outputs": [],
   "source": [
    "lr = tf.Variable(cfg.SCHEDULER.LR_INIT)\n",
    "learning_rate = learning_rate_config(cfg)\n",
    "\n",
    "# warmup策略\n",
    "def lr_with_warmup(global_steps):\n",
    "    lr_ = tf.cond(tf.less(global_steps, cfg.SCHEDULER.WARMUP_STEPS),\n",
    "                  lambda: cfg.SCHEDULER.LR_INIT * tf.cast((global_steps + 1) / cfg.SCHEDULER.WARMUP_STEPS,\n",
    "                                                          tf.float32),\n",
    "                  lambda: tf.maximum(learning_rate(global_steps - cfg.SCHEDULER.WARMUP_STEPS),\n",
    "                                     cfg.SCHEDULER.LR_LOWER_BOUND))\n",
    "    return lr_\n",
    "optimizer = config_optimizer(cfg, learning_rate=lr)\n",
    "\n",
    "# 模型保存与恢复\n",
    "manager, ckpt = ckpt_manager(cfg, model, logger, optimizer)"
   ],
   "metadata": {
    "collapsed": false,
    "pycharm": {
     "name": "#%%\n"
    }
   }
  },
  {
   "cell_type": "code",
   "execution_count": null,
   "outputs": [],
   "source": [
    "# region # 训练与验证静态图\n",
    "@tf.function\n",
    "def train_one_batch(x, y):\n",
    "    with tf.GradientTape() as tape:\n",
    "        # 1、计算模型输出和损失\n",
    "        pred_o = model(x, training=True)\n",
    "        regularization_loss_out = tf.reduce_sum(model.losses)\n",
    "        train_loss_out = loss(y, pred_o)\n",
    "        total_loss_out = train_loss_out + regularization_loss_out\n",
    "    # 计算梯度以及更新梯度, 固定用法\n",
    "    grads = tape.gradient(total_loss_out, model.trainable_variables)\n",
    "    optimizer.apply_gradients(zip(grads, model.trainable_variables))\n",
    "    return total_loss_out, train_loss_out, pred_o\n",
    "\n",
    "@tf.function\n",
    "def val_one_batch(x):\n",
    "    pred_o = model(x, training=False)\n",
    "    return pred_o\n",
    "# endregion\n",
    "\n",
    "# region # 记录器和评价指标\n",
    "summary_writer = tf.summary.create_file_writer(cfg.LOG_DIR)\n",
    "# tf.summary.trace_on(profiler=True)  # 开启Trace（可选）\n",
    "train_metric = ClassMetric(cfg.DATASET.N_CLASSES)\n",
    "val_metric = ClassMetric(cfg.DATASET.N_CLASSES)\n",
    "# endregion"
   ],
   "metadata": {
    "collapsed": false,
    "pycharm": {
     "name": "#%%\n"
    }
   }
  },
  {
   "cell_type": "code",
   "execution_count": null,
   "outputs": [],
   "source": [
    "# region # 迭代优化\n",
    "for _ in range(int(ckpt.step), cfg.TRAIN.EPOCHS):\n",
    "    # region  # 训练集\n",
    "    ckpt.step.assign_add(1)\n",
    "    lr.assign(lr_with_warmup(optimizer.iterations))  # 必须使用assign才能改变optimizer的lr的值，否则，是个固定值\n",
    "    for batch, (images, labels) in tqdm(enumerate(train_dataset)):\n",
    "        total_loss, train_loss, train_pred = train_one_batch(images, labels)\n",
    "        if int(ckpt.step) % cfg.TRAIN.SNAP_SHOT == 1:\n",
    "            train_out = np.argmax(train_pred, axis=-1)\n",
    "            train_metric.addBatch(labels, train_out)\n",
    "        with summary_writer.as_default():  # 指定记录器\n",
    "            tf.summary.scalar(\"train/total_loss\", total_loss, step=optimizer.iterations)  # 将当前损失函数的值写入记录器\n",
    "            tf.summary.scalar(\"train/train_loss\", train_loss, step=optimizer.iterations)\n",
    "            tf.summary.scalar(\"train/learning_rate\", lr, step=optimizer.iterations)\n",
    "    # endregion\n",
    "    \n",
    "    # region # 验证集\n",
    "    if int(ckpt.step) % cfg.TRAIN.SNAP_SHOT == 1:\n",
    "        for batch, (images, labels) in tqdm(enumerate(val_dataset)):\n",
    "            val_pred = val_one_batch(images)\n",
    "            val_out = np.argmax(val_pred, axis=-1)\n",
    "            val_metric.addBatch(labels, val_out)\n",
    "        with summary_writer.as_default():\n",
    "            # 保存Trace信息到文件（可选）\n",
    "            # tf.summary.trace_export(name=\"model_trace\", step=epoch, profiler_outdir=FLAGS.logs_dir)\n",
    "            tf.summary.scalar(\"train_metrics/f1_score\", train_metric.f1score(), step=int(ckpt.step))\n",
    "            tf.summary.scalar(\"train_metrics/Acc\", train_metric.acc(), step=int(ckpt.step))\n",
    "            tf.summary.scalar(\"val_metrics/f1_score\", val_metric.f1score(), step=int(ckpt.step))\n",
    "            tf.summary.scalar(\"val_metrics/Acc\", val_metric.acc(), step=int(ckpt.step))\n",
    "            val_f1 = val_metric.f1score()\n",
    "            logger.info(\"epoch: {}, train_f1:{:.5f}, val_f1:{:.5f}, train_acc:{:.5f}, val_acc:{:.5f}\".format(\n",
    "                int(ckpt.step), train_metric.f1score(), val_metric.f1score(), train_metric.acc(), val_metric.acc()\n",
    "            ))\n",
    "        train_metric.reset()\n",
    "        val_metric.reset()\n",
    "    # endregion\n",
    "\n",
    "    # region # 模型保存\n",
    "    # 使用CheckpointManager保存模型参数到文件并自定义编号\n",
    "    path = manager.save()\n",
    "    # if val_f1 >= 0.98:\n",
    "    #     os.mkdir(ckpt_dir + '//epoch_{}_train_{:.6f}'.format(epoch, val_f1))\n",
    "    #     tf.keras.models.save_model(\n",
    "    #         model, ckpt_dir + '//epoch_{}_train_{:.6f}'.format(epoch, val_f1))\n",
    "    # endregion\n",
    "# endregion"
   ],
   "metadata": {
    "collapsed": false,
    "pycharm": {
     "name": "#%%\n"
    }
   }
  }
 ],
 "metadata": {
  "kernelspec": {
   "display_name": "Python 3",
   "language": "python",
   "name": "python3"
  },
  "language_info": {
   "codemirror_mode": {
    "name": "ipython",
    "version": 2
   },
   "file_extension": ".py",
   "mimetype": "text/x-python",
   "name": "python",
   "nbconvert_exporter": "python",
   "pygments_lexer": "ipython2",
   "version": "2.7.6"
  }
 },
 "nbformat": 4,
 "nbformat_minor": 0
}